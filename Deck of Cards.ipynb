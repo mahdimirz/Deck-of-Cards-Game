{
    "cells": [
        {
            "metadata": {},
            "cell_type": "code",
            "source": "# getting necessary libraries\nimport random\nimport statistics\n\n# defining a class with 2 suits and 26 cards\n\nclass DCard:\n    def __init__(self, value, color):\n        self.value = value\n        self.color = color\n        \nDcolors = ['heart', 'diamonds']\n\ndeck = [DCard(value, color) for value in range(1, 14) for color in Dcolors]\n\n# creating a list for storing scores\n\nDP_Dist = []\n\n# iterating the game for 10 thousand times and appending score to the previous list each time\n# this helps us have a nice and sound distribution of defferent possible scores\n\nfor j in range(10000):\n    P = 0\n\n    deck = [DCard(value, color) for value in range(1, 14) for color in Dcolors]\n\n    a = random.choice(deck)\n\n    deck.pop(deck.index(a))\n\n    a.color\n\n# iterating the game as many times as the number of cards and checking the scoring condition\n\n    for i in range(26):\n        if deck == []:\n            break\n        else:\n            b = random.choice(deck)\n            if a.color == b.color:\n                P = P+1\n            deck.pop(deck.index(b))\n            a = b\n\n    DP_Dist.append(P)\n\n# printing the answers for questions 1, 2 and 5\n\nprint (\"For N = 26 and M = 2:\")\nprint (\"Mean = \", sum(DP_Dist)/len(DP_Dist))\nprint (\"Standard Deviation = \", statistics.stdev(DP_Dist))\nprint (\"Conditional Probability of P > 12 if P > 6 = \",\n       len([elem for elem in DP_Dist if elem > 12])/len([elem for elem in DP_Dist if elem > 6]))\n",
            "execution_count": 3,
            "outputs": [
                {
                    "output_type": "stream",
                    "text": "For N = 26 and M = 2:\nMean =  11.9976\nStandard Deviation =  2.492712498777217\nConditional Probability of P > 12 if P > 6 =  0.42736863461148306\n",
                    "name": "stdout"
                }
            ]
        },
        {
            "metadata": {},
            "cell_type": "code",
            "source": "class QCard:\n    def __init__(self, value, color):\n        self.value = value\n        self.color = color\n        \nQcolors = ['heart', 'diamonds', 'spades', 'clubs']\n\ndeck = [QCard(value, color) for value in range(1, 14) for color in Qcolors]\n\n# creating a list for storing scores\n\nQP_Dist = []\n\n# iterating the game for 10 thousand times and appending score to the previous list each time\n# this helps us have a nice and sound distribution of defferent possible scores\n\nfor j in range(10000):\n    P = 0\n\n    deck = [QCard(value, color) for value in range(1, 14) for color in Qcolors]\n\n    a = random.choice(deck)\n\n    deck.pop(deck.index(a))\n\n    a.color\n\n# iterating the game as many times as the number of cards and checking the scoring condition\n\n    for i in range(52):\n        if deck == []:\n            break\n        else:\n            b = random.choice(deck)\n            if a.color == b.color:\n                P = P+1\n            deck.pop(deck.index(b))\n            a = b\n\n    QP_Dist.append(P)\n\n# printing the answers for questions 4, 4 and 6\n\nprint (\"For N = 52 and M = 4:\")\nprint (\"Mean = \", sum(QP_Dist)/len(QP_Dist))\nprint (\"Standard Deviation = \", statistics.stdev(QP_Dist))\nprint (\"Conditional Probability of P > 12 if P > 6 = \",\n       len([elem for elem in QP_Dist if elem > 12])/len([elem for elem in QP_Dist if elem > 6]))",
            "execution_count": 4,
            "outputs": [
                {
                    "output_type": "stream",
                    "text": "For N = 52 and M = 4:\nMean =  12.008\nStandard Deviation =  3.0349393874851227\nConditional Probability of P > 12 if P > 6 =  0.42949640287769786\n",
                    "name": "stdout"
                }
            ]
        },
        {
            "metadata": {},
            "cell_type": "code",
            "source": "",
            "execution_count": null,
            "outputs": []
        }
    ],
    "metadata": {
        "kernelspec": {
            "name": "python3",
            "display_name": "Python 3.6",
            "language": "python"
        },
        "language_info": {
            "name": "python",
            "version": "3.6.9",
            "mimetype": "text/x-python",
            "codemirror_mode": {
                "name": "ipython",
                "version": 3
            },
            "pygments_lexer": "ipython3",
            "nbconvert_exporter": "python",
            "file_extension": ".py"
        }
    },
    "nbformat": 4,
    "nbformat_minor": 1
}